{
 "cells": [
  {
   "cell_type": "markdown",
   "id": "f5e72d23-e923-4f75-9c0a-cc67d0a523f6",
   "metadata": {},
   "source": [
    "Q1: What is Estimation Statistics? Explain point estimate and interval estimate."
   ]
  },
  {
   "cell_type": "markdown",
   "id": "879f66d7-fe08-4643-99b0-f5a3db28b2bf",
   "metadata": {},
   "source": [
    "In statistics, point estimators and interval estimators are the two most common types of estimators. Interval estimation is the polar opposite of point estimation. It yields a single value, while the latter yields a number of results"
   ]
  },
  {
   "cell_type": "code",
   "execution_count": null,
   "id": "c98a7c00-cca0-43bb-a069-3b366428854d",
   "metadata": {},
   "outputs": [],
   "source": []
  },
  {
   "cell_type": "markdown",
   "id": "ffbb6f7c-24bd-4b6b-80a1-bbe032ddfcb4",
   "metadata": {},
   "source": [
    "Q2. Write a Python function to estimate the population mean using a sample mean and standard\n",
    "deviation."
   ]
  },
  {
   "cell_type": "code",
   "execution_count": 3,
   "id": "28753fdf-aac3-42e4-9882-6c74be2587c3",
   "metadata": {},
   "outputs": [],
   "source": [
    "sample_mean = 10.2\n",
    "sample_std_dev = 2.5\n",
    "sample_size = 50\n",
    "\n",
    "\n",
    "def estimate_population_mean(sample_mean, sample_std_dev, sample_size):\n",
    "    estimated_population_mean = sample_mean * (sample_size ** 0.5) / sample_std_dev\n",
    "    return estimated_population_mean\n",
    "\n",
    "\n",
    "\n",
    "estimated_population_mean = sample_mean * (sample_size ** 0.5) / sample_std_dev\n"
   ]
  },
  {
   "cell_type": "code",
   "execution_count": 4,
   "id": "356890ee-0a92-44b9-ad69-edc8a38bc299",
   "metadata": {},
   "outputs": [
    {
     "data": {
      "text/plain": [
       "28.84995667241114"
      ]
     },
     "execution_count": 4,
     "metadata": {},
     "output_type": "execute_result"
    }
   ],
   "source": [
    "estimated_population_mean"
   ]
  },
  {
   "cell_type": "code",
   "execution_count": null,
   "id": "875f4de2-de20-462d-8c2a-1dd24a453b6d",
   "metadata": {},
   "outputs": [],
   "source": []
  },
  {
   "cell_type": "markdown",
   "id": "88a06afd-e938-4a81-b0e0-aaf94a6a53b8",
   "metadata": {},
   "source": [
    "Q3: What is Hypothesis testing? Why is it used? State the importance of Hypothesis testing."
   ]
  },
  {
   "cell_type": "markdown",
   "id": "0887b55c-29ee-4781-b3c8-1229cc654bb6",
   "metadata": {},
   "source": [
    "Hypothesis testing is a statistical method used to evaluate a hypothesis about a population parameter, based on a sample from that population. In hypothesis testing, we start with a null hypothesis (H0), which represents the status quo or the default assumption, and an alternative hypothesis (Ha), which represents the hypothesis we want to test. We collect data from a sample, calculate a test statistic, and compare it to a critical value or p-value to determine whether to reject or fail to reject the null hypothesis.\n",
    "\n",
    "Hypothesis testing is used in a variety of fields, including science, engineering, economics, and business, to test the validity of a hypothesis and make decisions based on data. It is commonly used to test the effectiveness of new treatments or interventions, compare the performance of different products or processes, evaluate the impact of changes in policy or procedures, and assess the accuracy of scientific models or theories.\n",
    "\n"
   ]
  },
  {
   "cell_type": "code",
   "execution_count": null,
   "id": "378eab2a-2adc-48d2-8b91-968c719bd85a",
   "metadata": {},
   "outputs": [],
   "source": []
  },
  {
   "cell_type": "markdown",
   "id": "b034915f-31c9-4601-b64e-21cacdb69b0f",
   "metadata": {},
   "source": [
    "Q4. Create a hypothesis that states whether the average weight of male college students is greater than\n",
    "the average weight of female college students."
   ]
  },
  {
   "cell_type": "markdown",
   "id": "d3871778-9c80-4092-91f9-26c3478f096f",
   "metadata": {},
   "source": [
    "The hypothesis that states whether the average weight of male college students is greater than the average weight of female college students is as follows:\n",
    "\n",
    "Null Hypothesis (H0): The average weight of male college students is equal to or less than the average weight of female college students.\n",
    "\n",
    "Alternative Hypothesis (Ha): The average weight of male college students is greater than the average weight of female college students.\n",
    "\n",
    "We can symbolize this as:\n",
    "\n",
    "H0: μM ≤ μF\n",
    "Ha: μM > μF\n",
    "\n",
    "where μM represents the population mean weight of male college students, and μF represents the population mean weight of female college students."
   ]
  },
  {
   "cell_type": "code",
   "execution_count": null,
   "id": "3b70adbe-09c8-42a2-9a00-4cc861ac6a55",
   "metadata": {},
   "outputs": [],
   "source": []
  },
  {
   "cell_type": "markdown",
   "id": "8edd2c2a-71c7-48dc-a8d9-fd5fa9cef6a3",
   "metadata": {},
   "source": [
    "Q5. Write a Python script to conduct a hypothesis test on the difference between two population means,\n",
    "given a sample from each population."
   ]
  },
  {
   "cell_type": "code",
   "execution_count": 5,
   "id": "34fa6b22-97e8-4446-9325-a02de1c6a2c9",
   "metadata": {},
   "outputs": [
    {
     "name": "stdout",
     "output_type": "stream",
     "text": [
      "Fail to reject the null hypothesis. There is no evidence that the population means are different.           \n",
      "Test statistic: -1.90, p-value: 0.1075\n"
     ]
    }
   ],
   "source": [
    "import numpy as np\n",
    "from scipy.stats import ttest_ind\n",
    "\n",
    "# Set up the samples\n",
    "sample1 = np.array([1, 2, 3, 4, 5])  # sample from population 1\n",
    "sample2 = np.array([2, 4, 6, 8, 10])  # sample from population 2\n",
    "\n",
    "# Calculate the sample means and standard deviations\n",
    "mean1 = np.mean(sample1)\n",
    "mean2 = np.mean(sample2)\n",
    "std1 = np.std(sample1, ddof=1)\n",
    "std2 = np.std(sample2, ddof=1)\n",
    "\n",
    "# Set the significance level\n",
    "alpha = 0.05\n",
    "\n",
    "# Calculate the test statistic and p-value using a two-sample t-test\n",
    "test_stat, p_value = ttest_ind(sample1, sample2, equal_var=False)\n",
    "\n",
    "# Compare the p-value to the significance level and make a decision\n",
    "if p_value < alpha:\n",
    "    print(f\"Reject the null hypothesis. There is evidence that the population means are different.\\\n",
    "           \\nTest statistic: {test_stat:.2f}, p-value: {p_value:.4f}\")\n",
    "else:\n",
    "    print(f\"Fail to reject the null hypothesis. There is no evidence that the population means are different.\\\n",
    "           \\nTest statistic: {test_stat:.2f}, p-value: {p_value:.4f}\")\n"
   ]
  },
  {
   "cell_type": "code",
   "execution_count": null,
   "id": "0d6614ca-a3e4-4463-b5b9-f6ae6aa5d810",
   "metadata": {},
   "outputs": [],
   "source": []
  },
  {
   "cell_type": "markdown",
   "id": "f98f6be0-9152-44a7-a412-3f22e15e38ce",
   "metadata": {},
   "source": [
    "Q6: What is a null and alternative hypothesis? Give some examples."
   ]
  },
  {
   "cell_type": "markdown",
   "id": "8ecda3a5-ab94-46bb-8ab0-b62669ae3aa7",
   "metadata": {},
   "source": [
    "In hypothesis testing, the null hypothesis and alternative hypothesis are two complementary statements about a population parameter that we want to test based on a sample of data. The null hypothesis represents the status quo or the default assumption, while the alternative hypothesis represents the hypothesis we want to test. The goal of hypothesis testing is to evaluate the evidence and decide whether to reject or fail to reject the null hypothesis in favor of the alternative hypothesis.\n",
    "\n",
    "Here are some examples of null and alternative hypotheses:\n",
    "\n",
    "1)Example for mean:\n",
    "\n",
    "Null Hypothesis (H0): The mean weight of apples is 50 grams.\n",
    "\n",
    "Alternative Hypothesis (Ha): The mean weight of apples is not 50 grams.\n",
    "\n",
    "2)Example for proportion:\n",
    "\n",
    "Null Hypothesis (H0): The proportion of voters who support candidate A is 0.5.\n",
    "\n",
    "Alternative Hypothesis (Ha): The proportion of voters who support candidate A is not 0.5."
   ]
  },
  {
   "cell_type": "code",
   "execution_count": null,
   "id": "ce421da9-3105-4a5a-a97d-b09992e1498c",
   "metadata": {},
   "outputs": [],
   "source": []
  },
  {
   "cell_type": "markdown",
   "id": "67a50800-d59e-4acc-8395-d66c49ab6f9e",
   "metadata": {},
   "source": [
    "Q7: Write down the steps involved in hypothesis testing."
   ]
  },
  {
   "cell_type": "markdown",
   "id": "0ca50499-43cc-4bc8-81df-ee0b6e3fc388",
   "metadata": {},
   "source": [
    "State the null hypothesis (H0) and alternative hypothesis (Ha) based on the research question or problem statement.\n",
    "\n",
    "Choose an appropriate test statistic based on the type of data and hypothesis being tested.\n",
    "\n",
    "Determine the level of significance (alpha) for the test, which represents the maximum probability of rejecting the null hypothesis when it is actually true. A common alpha value is 0.05, which corresponds to a 5% chance of making a Type I error.\n",
    "\n",
    "Collect a sample of data and calculate the test statistic and its corresponding p-value using the chosen test.\n",
    "\n",
    "Compare the p-value to the level of significance (alpha) and make a decision. If the p-value is less than alpha, reject the null hypothesis and accept the alternative hypothesis. If the p-value is greater than or equal to alpha, fail to reject the null hypothesis.\n",
    "\n",
    "Interpret the results in the context of the research question or problem statement. If the null hypothesis is rejected, this indicates that there is evidence to support the alternative hypothesis. If the null hypothesis is not rejected, this suggests that there is not enough evidence to support the alternative hypothesis.\n",
    "\n",
    "Check the assumptions of the test and the validity of the results. This includes checking for normality, independence, and other assumptions based on the type of test being performed.\n",
    "\n",
    "Report the results, including the test statistic, p-value, and decision, along with any relevant interpretations and conclusions."
   ]
  },
  {
   "cell_type": "code",
   "execution_count": null,
   "id": "af803cc2-12b5-4763-aae1-5555a467b2d6",
   "metadata": {},
   "outputs": [],
   "source": []
  },
  {
   "cell_type": "markdown",
   "id": "b49a36a1-96bd-4e2a-bd61-9232f8a3f86f",
   "metadata": {},
   "source": [
    "Q8. Define p-value and explain its significance in hypothesis testing."
   ]
  },
  {
   "cell_type": "markdown",
   "id": "5636d8ee-9b07-4895-9195-ba9d2b4bbc1e",
   "metadata": {},
   "source": [
    "In hypothesis testing, the p-value is a probability that measures the strength of evidence against the null hypothesis (H0). It represents the probability of observing a test statistic as extreme as or more extreme than the one computed from the sample data, assuming that the null hypothesis is true. The smaller the p-value, the stronger the evidence against the null hypothesis, and the more likely we are to reject it in favor of the alternative hypothesis (Ha).\n",
    "\n",
    "The significance of the p-value in hypothesis testing is that it provides a way to make an objective and quantitative decision about whether to reject or fail to reject the null hypothesis. Typically, we set a significance level (alpha) before conducting the test, which represents the maximum probability of rejecting the null hypothesis when it is actually true. If the p-value is less than alpha, we reject the null hypothesis and accept the alternative hypothesis, since the observed data is unlikely to have occurred by chance alone if the null hypothesis were true. If the p-value is greater than or equal to alpha, we fail to reject the null hypothesis, since the observed data is not strong enough to contradict the null hypothesis."
   ]
  },
  {
   "cell_type": "code",
   "execution_count": null,
   "id": "a519e5fe-ecd7-4f11-9ba2-efaaa1b39447",
   "metadata": {},
   "outputs": [],
   "source": []
  },
  {
   "cell_type": "markdown",
   "id": "511b4941-5cb4-4cb4-a6e6-0b26ac0b8ea3",
   "metadata": {},
   "source": [
    "Q9. Generate a Student's t-distribution plot using Python's matplotlib library, with the degrees of freedom\n",
    "parameter set to 10."
   ]
  },
  {
   "cell_type": "code",
   "execution_count": 6,
   "id": "ec07a97e-52ce-40ca-9305-8840d84a105b",
   "metadata": {},
   "outputs": [
    {
     "data": {
      "image/png": "[encoded data removed]",
      "text/plain": [
       "<Figure size 640x480 with 1 Axes>"
      ]
     },
     "metadata": {},
     "output_type": "display_data"
    }
   ],
   "source": [
    "import numpy as np\n",
    "import matplotlib.pyplot as plt\n",
    "\n",
    "# Set the degrees of freedom parameter\n",
    "df = 10\n",
    "\n",
    "# Define the range of values for the x-axis\n",
    "x = np.linspace(-4, 4, 100)\n",
    "\n",
    "# Compute the probability density function (pdf) of the t-distribution\n",
    "pdf = (1 / (np.sqrt(df) * np.pi)) * (1 + (x**2 / df))**(-(df + 1) / 2)\n",
    "\n",
    "# Create the plot\n",
    "plt.plot(x, pdf, label='t-distribution with df=10')\n",
    "plt.xlabel('x')\n",
    "plt.ylabel('Probability density')\n",
    "plt.title(\"Student's t-distribution plot\")\n",
    "plt.legend()\n",
    "plt.show()\n"
   ]
  },
  {
   "cell_type": "code",
   "execution_count": null,
   "id": "f8c173d8-f8de-491b-888a-59da0cbd0fb2",
   "metadata": {},
   "outputs": [],
   "source": []
  },
  {
   "cell_type": "markdown",
   "id": "4c6eb31f-5e99-4458-a9f8-ceb6bdf26587",
   "metadata": {},
   "source": [
    "Q10. Write a Python program to calculate the two-sample t-test for independent samples, given two\n",
    "random samples of equal size and a null hypothesis that the population means are equal."
   ]
  },
  {
   "cell_type": "code",
   "execution_count": 7,
   "id": "199b550e-51ff-4007-a2da-a77a45d2327a",
   "metadata": {},
   "outputs": [
    {
     "name": "stdout",
     "output_type": "stream",
     "text": [
      "Sample 1 mean: -0.18017855979670266\n",
      "Sample 2 mean: 0.8199207582550894\n",
      "Pooled standard deviation: 1.0825162009662088\n",
      "t-statistic: -2.921519076205987\n",
      "p-value: 0.005834238628649638\n",
      "Null hypothesis: The population means are equal\n"
     ]
    }
   ],
   "source": [
    "import numpy as np\n",
    "from scipy import stats\n",
    "\n",
    "# Generate two random samples of equal size\n",
    "n = 20\n",
    "sample1 = np.random.normal(0, 1, n)\n",
    "sample2 = np.random.normal(0.5, 1, n)\n",
    "\n",
    "# Set the null hypothesis that the population means are equal\n",
    "null_hypothesis = 'The population means are equal'\n",
    "\n",
    "# Compute the sample means and standard deviations\n",
    "mean1 = np.mean(sample1)\n",
    "mean2 = np.mean(sample2)\n",
    "sd1 = np.std(sample1, ddof=1)\n",
    "sd2 = np.std(sample2, ddof=1)\n",
    "\n",
    "# Calculate the pooled standard deviation\n",
    "pooled_sd = np.sqrt(((n - 1) * sd1**2 + (n - 1) * sd2**2) / (2 * n - 2))\n",
    "\n",
    "# Calculate the t-statistic\n",
    "t_statistic = (mean1 - mean2) / (pooled_sd * np.sqrt(2 / n))\n",
    "\n",
    "# Calculate the degrees of freedom\n",
    "df = 2 * n - 2\n",
    "\n",
    "# Calculate the p-value\n",
    "p_value = 2 * stats.t.cdf(-abs(t_statistic), df)\n",
    "\n",
    "# Print the results\n",
    "print('Sample 1 mean:', mean1)\n",
    "print('Sample 2 mean:', mean2)\n",
    "print('Pooled standard deviation:', pooled_sd)\n",
    "print('t-statistic:', t_statistic)\n",
    "print('p-value:', p_value)\n",
    "print('Null hypothesis:', null_hypothesis)\n"
   ]
  },
  {
   "cell_type": "code",
   "execution_count": null,
   "id": "59686600-4329-464e-8e0e-304d9d5e3d9a",
   "metadata": {},
   "outputs": [],
   "source": []
  },
  {
   "cell_type": "markdown",
   "id": "b2a2cb42-a486-4105-b95a-3eb37562ed52",
   "metadata": {},
   "source": [
    "Q11: What is Student’s t distribution? When to use the t-Distribution."
   ]
  },
  {
   "cell_type": "markdown",
   "id": "08ac87f5-ae2d-4949-adf8-27c501328a96",
   "metadata": {},
   "source": [
    "Student's t-distribution is a probability distribution that is used to estimate the mean of a population when the sample size is small (typically less than 30) and the population standard deviation is unknown. It is similar to the normal distribution, but has heavier tails and a flatter peak, which makes it more appropriate for small sample sizes.\n",
    "\n",
    "The t-distribution is used when we want to make inferences about a population mean based on a sample mean, but we don't know the population standard deviation. For example, suppose we want to estimate the average height of a certain species of tree in a forest. We could take a random sample of trees, measure their heights, and use the t-distribution to calculate a confidence interval for the true population mean."
   ]
  },
  {
   "cell_type": "code",
   "execution_count": null,
   "id": "c06801c5-6179-453c-80be-3c6b73f70c23",
   "metadata": {},
   "outputs": [],
   "source": []
  },
  {
   "cell_type": "markdown",
   "id": "b54d3a02-efcd-4dc5-8045-b33f93f5f146",
   "metadata": {},
   "source": [
    "Q12: What is t-statistic? State the formula for t-statistic."
   ]
  },
  {
   "cell_type": "markdown",
   "id": "eddde9e1-ffee-4508-8f98-d8dc8e11734e",
   "metadata": {},
   "source": [
    "The t-statistic is a measure of how many standard errors a sample mean is away from the hypothesized population mean, in units of the standard error of the mean. It is used in hypothesis testing to determine whether a sample mean is significantly different from a hypothesized population mean.\n",
    "\n",
    "The formula for the t-statistic is:\n",
    "\n",
    "t = (x̄ - μ) / (s / sqrt(n))\n",
    "\n",
    "where:\n",
    "\n",
    "x̄ is the sample mean\n",
    "μ is the hypothesized population mean\n",
    "s is the sample standard deviation\n",
    "n is the sample size\n",
    "This formula calculates how many standard errors the sample mean is away from the hypothesized population mean. If the t-statistic is large, it indicates that the sample mean is significantly different from the hypothesized population mean. The t-statistic follows a t-distribution with n - 1 degrees of freedom, where n is the sample size."
   ]
  },
  {
   "cell_type": "code",
   "execution_count": null,
   "id": "9389168e-2a62-4420-8656-8eada45e2573",
   "metadata": {},
   "outputs": [],
   "source": []
  },
  {
   "cell_type": "markdown",
   "id": "f338f749-4424-4653-a20b-ce7fac959f74",
   "metadata": {},
   "source": [
    "Q13. A coffee shop owner wants to estimate the average daily revenue for their shop. They take a random\n",
    "sample of 50 days and find the sample mean revenue to be $ 500 with a standard deviation of $50.\n",
    "Estimate the population mean revenue with a 95% confidence interval."
   ]
  },
  {
   "cell_type": "code",
   "execution_count": 17,
   "id": "192fa5a6-658e-4bf7-9055-7a49a49cc53b",
   "metadata": {},
   "outputs": [
    {
     "name": "stdout",
     "output_type": "stream",
     "text": [
      "Population mean revenue: 500.00\n",
      "95% confidence interval: (485.79, 514.21)\n"
     ]
    }
   ],
   "source": [
    "import numpy as np\n",
    "from scipy.stats import t\n",
    "\n",
    "# Sample statistics\n",
    "sample_mean = 500\n",
    "sample_std = 50\n",
    "sample_size = 50\n",
    "\n",
    "# Degrees of freedom\n",
    "df = sample_size - 1\n",
    "\n",
    "# Calculate the standard error\n",
    "std_error = sample_std / np.sqrt(sample_size)\n",
    "\n",
    "# Calculate the t-value for 95% confidence level and given degrees of freedom\n",
    "t_value = t.ppf(0.975, df)\n",
    "\n",
    "# Calculate the confidence interval\n",
    "lower_ci = sample_mean - t_value * std_error\n",
    "upper_ci = sample_mean + t_value * std_error\n",
    "\n",
    "# Print the results\n",
    "print(f\"Population mean revenue: {sample_mean:.2f}\")\n",
    "print(f\"95% confidence interval: ({lower_ci:.2f}, {upper_ci:.2f})\")\n"
   ]
  },
  {
   "cell_type": "code",
   "execution_count": null,
   "id": "9d4de7ad-1823-4576-921d-97f884d1b3e2",
   "metadata": {},
   "outputs": [],
   "source": []
  },
  {
   "cell_type": "markdown",
   "id": "cd7bed76-08ed-428e-b9eb-15e120830bd2",
   "metadata": {},
   "source": [
    "Q14. A researcher hypothesizes that a new drug will decrease blood pressure by 10 mmHg. They conduct a\n",
    "clinical trial with 100 patients and find that the sample mean decrease in blood pressure is 8 mmHg with a\n",
    "standard deviation of 3 mmHg. Test the hypothesis with a significance level of 0.05."
   ]
  },
  {
   "cell_type": "code",
   "execution_count": 14,
   "id": "fb9671fe-a2aa-4c1c-97a2-0dd2e57ab139",
   "metadata": {},
   "outputs": [
    {
     "name": "stdout",
     "output_type": "stream",
     "text": [
      "Reject null hypothesis. The new drug decreases blood pressure.\n"
     ]
    }
   ],
   "source": [
    "import numpy as np\n",
    "from scipy.stats import t\n",
    "\n",
    "n = 100\n",
    "sample_mean = 8\n",
    "pop_mean = 10\n",
    "sample_std = 3\n",
    "\n",
    "# Calculate the t-statistic\n",
    "t_stat = (sample_mean - pop_mean) / (sample_std / np.sqrt(n))\n",
    "\n",
    "# Find the p-value\n",
    "p_value = t.cdf(t_stat, df=n-1)\n",
    "\n",
    "# Compare p-value to significance level\n",
    "alpha = 0.05\n",
    "if p_value < alpha:\n",
    "    print(\"Reject null hypothesis. The new drug decreases blood pressure.\")\n",
    "else:\n",
    "    print(\"Fail to reject null hypothesis. The new drug does not decrease blood pressure.\")\n"
   ]
  },
  {
   "cell_type": "code",
   "execution_count": null,
   "id": "f46c5c3a-d800-4486-85be-378ca4726859",
   "metadata": {},
   "outputs": [],
   "source": []
  },
  {
   "cell_type": "markdown",
   "id": "a7e63668-adf4-4a4b-b84e-23a05dfc3e76",
   "metadata": {},
   "source": [
    "Q15. An electronics company produces a certain type of product with a mean weight of 5 pounds and a\n",
    "standard deviation of 0.5 pounds. A random sample of 25 products is taken, and the sample mean weight\n",
    "is found to be 4.8 pounds. Test the hypothesis that the true mean weight of the products is less than 5\n",
    "pounds with a significance level of 0.01."
   ]
  },
  {
   "cell_type": "code",
   "execution_count": 13,
   "id": "84c40bf5-6b90-48ea-9bb4-b0fb097a78f2",
   "metadata": {},
   "outputs": [
    {
     "name": "stdout",
     "output_type": "stream",
     "text": [
      "t-statistic: 1.3976224377146693\n",
      "p-value: 0.17501301056682955\n",
      "Critical value: -2.4921594731575762\n",
      "Fail to reject null hypothesis: there is insufficient evidence to support the claim that the true population mean weight of the products is significantly less than 5 pounds.\n"
     ]
    }
   ],
   "source": [
    "from scipy.stats import ttest_1samp, t\n",
    "\n",
    "import numpy as np\n",
    "\n",
    "# sample data\n",
    "sample_mean = 4.8\n",
    "pop_mean = 5\n",
    "pop_std = 0.5\n",
    "n = 25\n",
    "alpha = 0.01\n",
    "\n",
    "# calculate the t-statistic and p-value\n",
    "t_stat, p_value = ttest_1samp(np.random.normal(pop_mean, pop_std, size=n), sample_mean)\n",
    "\n",
    "# calculate the critical value\n",
    "crit_val = t.ppf(alpha, n-1)\n",
    "\n",
    "# print the results\n",
    "print(\"t-statistic:\", t_stat)\n",
    "print(\"p-value:\", p_value)\n",
    "print(\"Critical value:\", crit_val)\n",
    "\n",
    "# compare the t-statistic with the critical value and draw conclusions\n",
    "if t_stat < crit_val:\n",
    "    print(\"Reject null hypothesis: the true population mean weight of the products is significantly less than 5 pounds.\")\n",
    "else:\n",
    "    print(\"Fail to reject null hypothesis: there is insufficient evidence to support the claim that the true population mean weight of the products is significantly less than 5 pounds.\")\n"
   ]
  },
  {
   "cell_type": "code",
   "execution_count": null,
   "id": "0c2ac6c3-24ec-41c6-a58f-e88fcb291870",
   "metadata": {},
   "outputs": [],
   "source": []
  },
  {
   "cell_type": "markdown",
   "id": "4039932d-3184-4ea1-9101-2d4d9e46e251",
   "metadata": {},
   "source": [
    "Q16. Two groups of students are given different study materials to prepare for a test. The first group (n1 =\n",
    "30) has a mean score of 80 with a standard deviation of 10, and the second group (n2 = 40) has a mean\n",
    "score of 75 with a standard deviation of 8. Test the hypothesis that the population means for the two\n",
    "groups are equal with a significance level of 0.01."
   ]
  },
  {
   "cell_type": "code",
   "execution_count": 15,
   "id": "f0e1395f-09ec-4a62-b75f-05f30e7a3397",
   "metadata": {},
   "outputs": [
    {
     "name": "stdout",
     "output_type": "stream",
     "text": [
      "Reject the null hypothesis that the population means for the two groups are equal.\n",
      "t-statistic:  2.2511258444537408\n",
      "Critical value:  -2.6500812928169557\n",
      "p-value:  0.027613480367697507\n"
     ]
    }
   ],
   "source": [
    "import numpy as np\n",
    "from scipy.stats import t\n",
    "\n",
    "# First group\n",
    "n1 = 30\n",
    "x1 = 80\n",
    "s1 = 10\n",
    "\n",
    "# Second group\n",
    "n2 = 40\n",
    "x2 = 75\n",
    "s2 = 8\n",
    "\n",
    "# Degrees of freedom\n",
    "df = n1 + n2 - 2\n",
    "\n",
    "# Standard error of the difference between means\n",
    "se_diff = np.sqrt((s1**2 / n1) + (s2**2 / n2))\n",
    "\n",
    "# T-statistic\n",
    "t_stat = (x1 - x2) / se_diff\n",
    "\n",
    "# Critical value\n",
    "alpha = 0.01\n",
    "cv = t.ppf(alpha/2, df)\n",
    "\n",
    "# p-value\n",
    "p_value = 2 * (1 - t.cdf(abs(t_stat), df))\n",
    "\n",
    "# Test the hypothesis\n",
    "if abs(t_stat) > cv:\n",
    "    print(\"Reject the null hypothesis that the population means for the two groups are equal.\")\n",
    "else:\n",
    "    print(\"Fail to reject the null hypothesis that the population means for the two groups are equal.\")\n",
    "\n",
    "# Print the t-statistic, critical value, and p-value\n",
    "print(\"t-statistic: \", t_stat)\n",
    "print(\"Critical value: \", cv)\n",
    "print(\"p-value: \", p_value)\n"
   ]
  },
  {
   "cell_type": "code",
   "execution_count": null,
   "id": "cb14317e-453d-4cc2-8bd5-77805f7abeb2",
   "metadata": {},
   "outputs": [],
   "source": []
  },
  {
   "cell_type": "markdown",
   "id": "c38a0c09-b532-47a9-8fb1-8d6d460026be",
   "metadata": {},
   "source": [
    "Q17. A marketing company wants to estimate the average number of ads watched by viewers during a TV\n",
    "program. They take a random sample of 50 viewers and find that the sample mean is 4 with a standard\n",
    "deviation of 1.5. Estimate the population mean with a 99% confidence interval."
   ]
  },
  {
   "cell_type": "code",
   "execution_count": 16,
   "id": "39c5c16a-5fc2-437c-b717-27bbfbbc6f46",
   "metadata": {},
   "outputs": [
    {
     "name": "stdout",
     "output_type": "stream",
     "text": [
      "The 99% confidence interval for the population mean is: [3.45, 4.55]\n"
     ]
    }
   ],
   "source": [
    "import scipy.stats as stats\n",
    "import math\n",
    "\n",
    "sample_mean = 4\n",
    "sample_std = 1.5\n",
    "sample_size = 50\n",
    "\n",
    "# calculate the standard error\n",
    "std_error = sample_std / math.sqrt(sample_size)\n",
    "\n",
    "# calculate the critical value\n",
    "z_value = stats.norm.ppf(0.995)  # 0.995 corresponds to a two-tailed test with alpha = 0.01\n",
    "\n",
    "# calculate the lower and upper bounds of the confidence interval\n",
    "lower_bound = sample_mean - (z_value * std_error)\n",
    "upper_bound = sample_mean + (z_value * std_error)\n",
    "\n",
    "print(\"The 99% confidence interval for the population mean is: [{:.2f}, {:.2f}]\".format(lower_bound, upper_bound))\n"
   ]
  },
  {
   "cell_type": "code",
   "execution_count": null,
   "id": "cfe14ad3-f94c-432a-b141-4cd34ba75535",
   "metadata": {},
   "outputs": [],
   "source": []
  }
 ],
 "metadata": {
  "kernelspec": {
   "display_name": "Python 3 (ipykernel)",
   "language": "python",
   "name": "python3"
  },
  "language_info": {
   "codemirror_mode": {
    "name": "ipython",
    "version": 3
   },
   "file_extension": ".py",
   "mimetype": "text/x-python",
   "name": "python",
   "nbconvert_exporter": "python",
   "pygments_lexer": "ipython3",
   "version": "3.10.8"
  }
 },
 "nbformat": 4,
 "nbformat_minor": 5
}
